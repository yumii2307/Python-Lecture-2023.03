{
 "cells": [
  {
   "attachments": {},
   "cell_type": "markdown",
   "metadata": {},
   "source": [
    "### 3-2. if ~ elif ~ else"
   ]
  },
  {
   "cell_type": "code",
   "execution_count": 1,
   "metadata": {},
   "outputs": [
    {
     "name": "stdout",
     "output_type": "stream",
     "text": [
      "3월은 봄입니다.\n"
     ]
    }
   ],
   "source": [
    "# 계절 구분\n",
    "# 3 - 5: 봄, 6 - 8: 여름, 9 - 11: 가을, 12 - 2: 겨울\n",
    "import datetime\n",
    "now = datetime.datetime.now()\n",
    "if 3 <= now.month <= 5:\n",
    "    print(f'{now.month}월은 봄입니다.')\n",
    "if 6 <= now.month <= 8:\n",
    "    print(f'{now.month}월은 여름입니다.')\n",
    "if 9 <= now.month <= 11:\n",
    "    print(f'{now.month}월은 가을입니다.')\n",
    "if now.month >= 12 or now.month <= 2:\n",
    "    print(f'{now.month}월은 겨울입니다.')"
   ]
  },
  {
   "cell_type": "code",
   "execution_count": 2,
   "metadata": {},
   "outputs": [
    {
     "name": "stdout",
     "output_type": "stream",
     "text": [
      "3월은 봄입니다.\n"
     ]
    }
   ],
   "source": [
    "if 3 <= now.month <= 5:\n",
    "    print(f'{now.month}월은 봄입니다.')\n",
    "elif 6 <= now.month <= 8:\n",
    "    print(f'{now.month}월은 여름입니다.')\n",
    "elif 9 <= now.month <= 11:\n",
    "    print(f'{now.month}월은 가을입니다.')\n",
    "else:\n",
    "    print(f'{now.month}월은 겨울입니다.')"
   ]
  },
  {
   "cell_type": "code",
   "execution_count": 2,
   "metadata": {},
   "outputs": [
    {
     "name": "stdout",
     "output_type": "stream",
     "text": [
      "95 A\n"
     ]
    }
   ],
   "source": [
    "# score 값에 따라 A, B, C, D, F 학점\n",
    "import random\n",
    "score = random.randint(40, 100)\n",
    "if score >= 90:\n",
    "    grade = 'A'\n",
    "elif score >= 80:\n",
    "    grade = 'B'\n",
    "elif score >= 70:\n",
    "    grade = 'C'\n",
    "elif score >= 60:\n",
    "    grade = 'D'\n",
    "else:\n",
    "    grade = 'F'\n",
    "print(score, grade)"
   ]
  },
  {
   "attachments": {},
   "cell_type": "markdown",
   "metadata": {},
   "source": [
    "- False 로 변환되는 값"
   ]
  },
  {
   "cell_type": "code",
   "execution_count": 3,
   "metadata": {},
   "outputs": [
    {
     "data": {
      "text/plain": [
       "(True, False)"
      ]
     },
     "execution_count": 3,
     "metadata": {},
     "output_type": "execute_result"
    }
   ],
   "source": [
    "bool(1), bool(0)"
   ]
  },
  {
   "cell_type": "code",
   "execution_count": 4,
   "metadata": {},
   "outputs": [
    {
     "data": {
      "text/plain": [
       "(False, False, False)"
      ]
     },
     "execution_count": 4,
     "metadata": {},
     "output_type": "execute_result"
    }
   ],
   "source": [
    "bool(0.0), bool(''), bool(None)"
   ]
  },
  {
   "cell_type": "code",
   "execution_count": 5,
   "metadata": {},
   "outputs": [
    {
     "data": {
      "text/plain": [
       "(False, False, False)"
      ]
     },
     "execution_count": 5,
     "metadata": {},
     "output_type": "execute_result"
    }
   ],
   "source": [
    "# empty list, empty tuple, empty dictionary\n",
    "bool([]), bool(()), bool({})"
   ]
  },
  {
   "cell_type": "code",
   "execution_count": null,
   "metadata": {},
   "outputs": [],
   "source": []
  }
 ],
 "metadata": {
  "kernelspec": {
   "display_name": "base",
   "language": "python",
   "name": "python3"
  },
  "language_info": {
   "codemirror_mode": {
    "name": "ipython",
    "version": 3
   },
   "file_extension": ".py",
   "mimetype": "text/x-python",
   "name": "python",
   "nbconvert_exporter": "python",
   "pygments_lexer": "ipython3",
   "version": "3.10.9"
  },
  "orig_nbformat": 4
 },
 "nbformat": 4,
 "nbformat_minor": 2
}
