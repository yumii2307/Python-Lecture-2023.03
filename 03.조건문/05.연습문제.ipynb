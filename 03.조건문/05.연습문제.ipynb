{
 "cells": [
  {
   "attachments": {},
   "cell_type": "markdown",
   "metadata": {},
   "source": [
    "- Q1. 생일을 입력으로 받아 오늘 현재의 만 나이를 계산하고, 띠를 알려주세요"
   ]
  },
  {
   "cell_type": "code",
   "execution_count": 87,
   "metadata": {},
   "outputs": [
    {
     "data": {
      "text/plain": [
       "(2000, 1, 20)"
      ]
     },
     "execution_count": 87,
     "metadata": {},
     "output_type": "execute_result"
    }
   ],
   "source": [
    "# 생년월일을 입력으로 받아서 정수로 변환하기\n",
    "b_year, b_month, b_day = map(int, input('생년월일을 입력하세요').split())\n",
    "b_year, b_month, b_day"
   ]
  },
  {
   "cell_type": "code",
   "execution_count": 88,
   "metadata": {},
   "outputs": [
    {
     "data": {
      "text/plain": [
       "(2023, 3, 30)"
      ]
     },
     "execution_count": 88,
     "metadata": {},
     "output_type": "execute_result"
    }
   ],
   "source": [
    "# 오늘 날짜 구하기\n",
    "import datetime\n",
    "t = datetime.date.today()\n",
    "t.year, t.month, t.day"
   ]
  },
  {
   "cell_type": "code",
   "execution_count": 89,
   "metadata": {},
   "outputs": [
    {
     "name": "stdout",
     "output_type": "stream",
     "text": [
      "23\n"
     ]
    }
   ],
   "source": [
    "if t.month < b_month:\n",
    "    age = t.year - b_year - 1\n",
    "elif t.month > b_month:\n",
    "    age = t.year - b_year\n",
    "else:\n",
    "    if t.day < b_day:\n",
    "        age = t.year - b_year - 1\n",
    "    else:\n",
    "        age = t.year - b_year\n",
    "print(age)"
   ]
  },
  {
   "cell_type": "code",
   "execution_count": 90,
   "metadata": {},
   "outputs": [
    {
     "name": "stdout",
     "output_type": "stream",
     "text": [
      "진\n"
     ]
    }
   ],
   "source": [
    "# 띠 계산\n",
    "# 생년을 12로 나눈 나머지\n",
    "# 0 - 원숭이, 1 - 닭, ..., 11 - 양\n",
    "animals = '신유술해자축인묘진사오미'\n",
    "print(animals[b_year % 12])"
   ]
  },
  {
   "cell_type": "code",
   "execution_count": 91,
   "metadata": {},
   "outputs": [
    {
     "name": "stdout",
     "output_type": "stream",
     "text": [
      "용\n"
     ]
    }
   ],
   "source": [
    "animals = '원숭이 닭 개 돼지 쥐 소 호랑이 토끼 용 뱀 말 양'.split()\n",
    "print(animals[b_year % 12])"
   ]
  },
  {
   "attachments": {},
   "cell_type": "markdown",
   "metadata": {},
   "source": [
    "- Q2. FizzBuzz\n",
    "    - 15로 나누어지면 FizzBuzz, 3으로 나누어지면 Fizz, 5로 나누어지면 Buzz\n",
    "    - 아니면 숫자"
   ]
  },
  {
   "cell_type": "code",
   "execution_count": 92,
   "metadata": {},
   "outputs": [
    {
     "name": "stdout",
     "output_type": "stream",
     "text": [
      "100 Buzz\n"
     ]
    }
   ],
   "source": [
    "import random\n",
    "num = random.randint(1, 100)\n",
    "if num % 15 == 0:\n",
    "    result = 'FizzBuzz'\n",
    "elif num % 3 == 0:\n",
    "    result = 'Fizz'\n",
    "elif num % 5 == 0:\n",
    "    result = 'Buzz'\n",
    "else:\n",
    "    result = num\n",
    "print(num, result)"
   ]
  },
  {
   "cell_type": "code",
   "execution_count": 93,
   "metadata": {},
   "outputs": [
    {
     "name": "stdout",
     "output_type": "stream",
     "text": [
      "66 Fizz\n"
     ]
    }
   ],
   "source": [
    "# 신박한 방법\n",
    "num = random.randint(1, 100)\n",
    "print(num, 'Fizz'*(num%3==0) + 'Buzz'*(num%5==0) or num)"
   ]
  },
  {
   "cell_type": "code",
   "execution_count": null,
   "metadata": {},
   "outputs": [],
   "source": []
  }
 ],
 "metadata": {
  "kernelspec": {
   "display_name": "base",
   "language": "python",
   "name": "python3"
  },
  "language_info": {
   "codemirror_mode": {
    "name": "ipython",
    "version": 3
   },
   "file_extension": ".py",
   "mimetype": "text/x-python",
   "name": "python",
   "nbconvert_exporter": "python",
   "pygments_lexer": "ipython3",
   "version": "3.10.9"
  },
  "orig_nbformat": 4
 },
 "nbformat": 4,
 "nbformat_minor": 2
}
