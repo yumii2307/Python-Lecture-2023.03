{
 "cells": [
  {
   "attachments": {},
   "cell_type": "markdown",
   "metadata": {},
   "source": [
    "### 1181. 단어정렬"
   ]
  },
  {
   "cell_type": "code",
   "execution_count": 111,
   "metadata": {},
   "outputs": [],
   "source": [
    "# Step 1. dict 만들기\n",
    "word_dict = {key: set() for key in range(1, 51)}"
   ]
  },
  {
   "cell_type": "code",
   "execution_count": 112,
   "metadata": {},
   "outputs": [],
   "source": [
    "# Step 2. 단어 읽으면서 word_dict에 채워넣기\n",
    "num = int(input('읽을 단어의 갯수> '))\n",
    "for _ in range(num):\n",
    "    word = input()\n",
    "    word_dict[len(word)].add(word)"
   ]
  },
  {
   "cell_type": "code",
   "execution_count": 113,
   "metadata": {},
   "outputs": [
    {
     "data": {
      "text/plain": [
       "({'i'}, {'go'}, {'now'}, {'home', 'want'}, {'right'})"
      ]
     },
     "execution_count": 113,
     "metadata": {},
     "output_type": "execute_result"
    }
   ],
   "source": [
    "word_dict[1], word_dict[2], word_dict[3], word_dict[4], word_dict[5]"
   ]
  },
  {
   "cell_type": "code",
   "execution_count": 114,
   "metadata": {},
   "outputs": [
    {
     "name": "stdout",
     "output_type": "stream",
     "text": [
      "i\n",
      "go\n",
      "now\n",
      "home\n",
      "want\n",
      "right\n"
     ]
    }
   ],
   "source": [
    "# Step 3. 주어진 순서대로 출력하기\n",
    "for key in range(1, 51):\n",
    "    if len(word_dict[key]) == 0:\n",
    "        continue\n",
    "    for word in sorted(word_dict[key]):\n",
    "        print(word)"
   ]
  },
  {
   "attachments": {},
   "cell_type": "markdown",
   "metadata": {},
   "source": [
    "### 2231. 분해합"
   ]
  },
  {
   "cell_type": "code",
   "execution_count": 115,
   "metadata": {},
   "outputs": [],
   "source": [
    "# 분해합을 반환하는 함수\n",
    "def sum_of_decomposition(num):\n",
    "    numStr = str(num)\n",
    "    result = num\n",
    "    for i in range(len(numStr)):\n",
    "        result += int(numStr[i])\n",
    "    return result"
   ]
  },
  {
   "cell_type": "code",
   "execution_count": 116,
   "metadata": {},
   "outputs": [
    {
     "data": {
      "text/plain": [
       "456"
      ]
     },
     "execution_count": 116,
     "metadata": {},
     "output_type": "execute_result"
    }
   ],
   "source": [
    "sum_of_decomposition(444)"
   ]
  },
  {
   "cell_type": "code",
   "execution_count": 117,
   "metadata": {},
   "outputs": [
    {
     "name": "stdout",
     "output_type": "stream",
     "text": [
      "216의 최초 생성자는 198\n"
     ]
    }
   ],
   "source": [
    "num = int(input())\n",
    "for i in range(num - 9 * len(str(num)), num):\n",
    "    if sum_of_decomposition(i) == num:\n",
    "        print(f'{num}의 최초 생성자는 {i}')\n",
    "        break"
   ]
  },
  {
   "attachments": {},
   "cell_type": "markdown",
   "metadata": {},
   "source": [
    "### 2839. 설탕배달"
   ]
  },
  {
   "cell_type": "code",
   "execution_count": 118,
   "metadata": {},
   "outputs": [
    {
     "name": "stdout",
     "output_type": "stream",
     "text": [
      "101kg: 5kg 봉지 19개, 3kg 봉지 2개, 총 21개\n"
     ]
    }
   ],
   "source": [
    "N = int(input())\n",
    "\n",
    "N5, N3 = 0, 0\n",
    "try:\n",
    "    for i in range(N // 5, N // 3 + 1):\n",
    "        for k in range(i + 1):\n",
    "            if N == 3 * k + 5 * (i - k):\n",
    "                N5 = i - k\n",
    "                N3 = k\n",
    "                raise Exception\n",
    "except:\n",
    "    print(f'{N}kg: 5kg 봉지 {N5}개, 3kg 봉지 {N3}개, 총 {N5+N3}개')\n",
    "else:\n",
    "    print(-1)"
   ]
  },
  {
   "attachments": {},
   "cell_type": "markdown",
   "metadata": {},
   "source": [
    "### 3003. 킹, 퀸, 룩, 비숍, 나이트, 폰"
   ]
  },
  {
   "cell_type": "code",
   "execution_count": 119,
   "metadata": {},
   "outputs": [
    {
     "name": "stdout",
     "output_type": "stream",
     "text": [
      "0 1 0 0 0 1 \n"
     ]
    }
   ],
   "source": [
    "chess_pieces = [1, 1, 2, 2, 2, 8]\n",
    "pieces = list(map(int, input().split()))\n",
    "for i in range(len(pieces)):\n",
    "    print(chess_pieces[i] - pieces[i], end=' ')\n",
    "print()"
   ]
  },
  {
   "attachments": {},
   "cell_type": "markdown",
   "metadata": {},
   "source": [
    "### 4344. 평균은 넘겠지"
   ]
  },
  {
   "cell_type": "code",
   "execution_count": 130,
   "metadata": {},
   "outputs": [],
   "source": [
    "def above_average(score_list):\n",
    "    avg = sum(score_list) / len(score_list)\n",
    "    count = 0\n",
    "    for score in score_list:\n",
    "        if score > avg:\n",
    "            count += 1\n",
    "    print(round((count / len(score_list) * 100), 3), '%')"
   ]
  },
  {
   "cell_type": "code",
   "execution_count": 133,
   "metadata": {},
   "outputs": [
    {
     "ename": "TypeError",
     "evalue": "'int' object is not callable",
     "output_type": "error",
     "traceback": [
      "\u001b[1;31m---------------------------------------------------------------------------\u001b[0m",
      "\u001b[1;31mTypeError\u001b[0m                                 Traceback (most recent call last)",
      "Cell \u001b[1;32mIn[133], line 4\u001b[0m\n\u001b[0;32m      2\u001b[0m \u001b[39mfor\u001b[39;00m i \u001b[39min\u001b[39;00m \u001b[39mrange\u001b[39m(C):\n\u001b[0;32m      3\u001b[0m     scores \u001b[39m=\u001b[39m \u001b[39mlist\u001b[39m(\u001b[39mmap\u001b[39m(\u001b[39mint\u001b[39m, \u001b[39minput\u001b[39m()\u001b[39m.\u001b[39msplit()))[\u001b[39m1\u001b[39m:]            \u001b[39m# 5 50 50 70 80 100\u001b[39;00m\n\u001b[1;32m----> 4\u001b[0m     above_average(scores)\n",
      "Cell \u001b[1;32mIn[130], line 2\u001b[0m, in \u001b[0;36mabove_average\u001b[1;34m(score_list)\u001b[0m\n\u001b[0;32m      1\u001b[0m \u001b[39mdef\u001b[39;00m \u001b[39mabove_average\u001b[39m(score_list):\n\u001b[1;32m----> 2\u001b[0m     avg \u001b[39m=\u001b[39m \u001b[39msum\u001b[39;49m(score_list) \u001b[39m/\u001b[39m \u001b[39mlen\u001b[39m(score_list)\n\u001b[0;32m      3\u001b[0m     count \u001b[39m=\u001b[39m \u001b[39m0\u001b[39m\n\u001b[0;32m      4\u001b[0m     \u001b[39mfor\u001b[39;00m score \u001b[39min\u001b[39;00m score_list:\n",
      "\u001b[1;31mTypeError\u001b[0m: 'int' object is not callable"
     ]
    }
   ],
   "source": [
    "C = int(input())\n",
    "for i in range(C):\n",
    "    scores = list(map(int, input().split()))[1:]            # 5 50 50 70 80 100\n",
    "    above_average(scores)"
   ]
  },
  {
   "attachments": {},
   "cell_type": "markdown",
   "metadata": {},
   "source": [
    "### 11720. 숫자의 합"
   ]
  },
  {
   "cell_type": "code",
   "execution_count": 122,
   "metadata": {},
   "outputs": [
    {
     "name": "stdout",
     "output_type": "stream",
     "text": [
      "15\n"
     ]
    }
   ],
   "source": [
    "N = int(input())\n",
    "num = input()\n",
    "sum = 0\n",
    "for i in range(N):\n",
    "    sum += int(num[i])\n",
    "print(sum)"
   ]
  },
  {
   "attachments": {},
   "cell_type": "markdown",
   "metadata": {},
   "source": [
    "### 19532. 수학은 비대면강의입니다"
   ]
  },
  {
   "cell_type": "code",
   "execution_count": null,
   "metadata": {},
   "outputs": [
    {
     "name": "stdout",
     "output_type": "stream",
     "text": [
      "-1 2\n"
     ]
    }
   ],
   "source": [
    "a, b, c, d, e, f = map(int, input().split())\n",
    "\n",
    "try:\n",
    "    for x in range(-999, 1000):\n",
    "        for y in range(-999, 1000):\n",
    "            if a * x + b * y == c and d * x + e * y == f:\n",
    "                print(x, y)\n",
    "                raise Exception\n",
    "except:\n",
    "    pass"
   ]
  },
  {
   "attachments": {},
   "cell_type": "markdown",
   "metadata": {},
   "source": [
    "### 25206. 너의 평점은"
   ]
  },
  {
   "cell_type": "code",
   "execution_count": 125,
   "metadata": {},
   "outputs": [],
   "source": [
    "s = '''\n",
    "ObjectOrientedProgramming1 3.0 A+\n",
    "IntroductiontoComputerEngineering 3.0 A+\n",
    "ObjectOrientedProgramming2 3.0 A0\n",
    "CreativeComputerEngineeringDesign 3.0 A+\n",
    "AssemblyLanguage 3.0 A+\n",
    "InternetProgramming 3.0 B0\n",
    "ApplicationProgramminginJava 3.0 A0\n",
    "SystemProgramming 3.0 B0\n",
    "OperatingSystem 3.0 B0\n",
    "WirelessCommunicationsandNetworking 3.0 C+\n",
    "LogicCircuits 3.0 B0\n",
    "DataStructure 4.0 A+\n",
    "MicroprocessorApplication 3.0 B+\n",
    "EmbeddedSoftware 3.0 C0\n",
    "ComputerSecurity 3.0 D+\n",
    "Database 3.0 C+\n",
    "Algorithm 3.0 B0\n",
    "CapstoneDesigninCSE 3.0 B+\n",
    "CompilerDesign 3.0 D0\n",
    "ProblemSolving 4.0 P\n",
    "'''"
   ]
  },
  {
   "cell_type": "code",
   "execution_count": 126,
   "metadata": {},
   "outputs": [
    {
     "data": {
      "text/plain": [
       "{'A+': 4.5,\n",
       " 'A0': 4.0,\n",
       " 'B+': 3.5,\n",
       " 'B0': 3.0,\n",
       " 'C+': 2.5,\n",
       " 'C0': 2.0,\n",
       " 'D+': 1.5,\n",
       " 'D0': 1.0,\n",
       " 'F': 0,\n",
       " 'P': -1}"
      ]
     },
     "execution_count": 126,
     "metadata": {},
     "output_type": "execute_result"
    }
   ],
   "source": [
    "key = 'A+,A0,B+,B0,C+,C0,D+,D0,F,P'.split(',')\n",
    "vals = [4.5, 4.0, 3.5, 3.0, 2.5, 2.0, 1.5, 1.0, 0, -1]\n",
    "grade_map = dict(zip(key, vals))\n",
    "grade_map"
   ]
  },
  {
   "cell_type": "code",
   "execution_count": 127,
   "metadata": {},
   "outputs": [
    {
     "name": "stdout",
     "output_type": "stream",
     "text": [
      "3.2844827586206895\n"
     ]
    }
   ],
   "source": [
    "cum_size, cum_score = 0.0, 0.0\n",
    "for line in s.split('\\n'):\n",
    "    if line == '':\n",
    "        continue\n",
    "    size = float(line.split()[1])\n",
    "    grade = line.split()[2]\n",
    "    if (grade == 'P'):\n",
    "        continue\n",
    "    cum_size += size\n",
    "    cum_score += grade_map[grade] * size\n",
    "\n",
    "print(cum_score / cum_size)"
   ]
  },
  {
   "cell_type": "code",
   "execution_count": null,
   "metadata": {},
   "outputs": [],
   "source": []
  }
 ],
 "metadata": {
  "kernelspec": {
   "display_name": "base",
   "language": "python",
   "name": "python3"
  },
  "language_info": {
   "codemirror_mode": {
    "name": "ipython",
    "version": 3
   },
   "file_extension": ".py",
   "mimetype": "text/x-python",
   "name": "python",
   "nbconvert_exporter": "python",
   "pygments_lexer": "ipython3",
   "version": "3.10.10"
  },
  "orig_nbformat": 4
 },
 "nbformat": 4,
 "nbformat_minor": 2
}
