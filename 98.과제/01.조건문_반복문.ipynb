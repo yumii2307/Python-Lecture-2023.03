{
 "cells": [
  {
   "attachments": {},
   "cell_type": "markdown",
   "metadata": {},
   "source": [
    "### 1. 백준도장 2884 알람시계"
   ]
  },
  {
   "cell_type": "code",
   "execution_count": 54,
   "metadata": {},
   "outputs": [
    {
     "name": "stdout",
     "output_type": "stream",
     "text": [
      "12 25\n"
     ]
    }
   ],
   "source": [
    "hour, minute = map(int, input().split())\n",
    "\n",
    "if minute >= 45:\n",
    "    print(hour, minute-45)\n",
    "elif hour == 1 and minute < 45:\n",
    "    print(12, minute+15)\n",
    "else:\n",
    "    print(hour-1, minute+15)"
   ]
  },
  {
   "cell_type": "code",
   "execution_count": 1,
   "metadata": {},
   "outputs": [
    {
     "name": "stdout",
     "output_type": "stream",
     "text": [
      "23:40\n"
     ]
    }
   ],
   "source": [
    "# another answer\n",
    "\n",
    "hour, minute = map(int, input().split())\n",
    "if minute >= 45:\n",
    "    newHour = hour\n",
    "    newMin = minute - 45\n",
    "else:\n",
    "    newHour = (hour + 24 - 1) % 24\n",
    "    newMin = minute + 15\n",
    "print(f'{newHour}:{newMin}')"
   ]
  },
  {
   "attachments": {},
   "cell_type": "markdown",
   "metadata": {},
   "source": [
    "### 2. 백준도장 2480 주사위 문제"
   ]
  },
  {
   "cell_type": "code",
   "execution_count": 9,
   "metadata": {},
   "outputs": [
    {
     "name": "stdout",
     "output_type": "stream",
     "text": [
      "6, 5, 3, 600원\n"
     ]
    }
   ],
   "source": [
    "a, b, c = map(int, input().split())\n",
    "if a == b == c:\n",
    "    prize = 10000 + a * 1000\n",
    "elif a == b or a == c:\n",
    "    prize = 1000 + a * 100\n",
    "elif b == c:\n",
    "    prize = 1000 + b * 100\n",
    "else:\n",
    "    if a > b and a > c:\n",
    "        maxVal = a\n",
    "    elif b > a and b > c:\n",
    "        maxVal = b\n",
    "    else:\n",
    "        maxVal = c\n",
    "    prize = maxVal * 100\n",
    "print(f'{a}, {b}, {c}, {prize}원')"
   ]
  },
  {
   "cell_type": "code",
   "execution_count": null,
   "metadata": {},
   "outputs": [],
   "source": [
    "# another answer\n",
    "\n",
    "a, b, c = map(int, input().split())\n",
    "if a == b == c:\n",
    "    prize = 10000 + a * 1000\n",
    "elif a == b or a == c:\n",
    "    prize = 1000 + a * 100\n",
    "elif b == c:\n",
    "    prize = 1000 + b * 100\n",
    "else:\n",
    "    maxVal = max([a, b, c])\n",
    "    prize = maxVal * 100\n",
    "print(f'{a}, {b}, {c}, {prize}원')"
   ]
  },
  {
   "attachments": {},
   "cell_type": "markdown",
   "metadata": {},
   "source": [
    "### 3. 완전수 구하기"
   ]
  },
  {
   "cell_type": "code",
   "execution_count": 22,
   "metadata": {},
   "outputs": [],
   "source": [
    "for i in range(2, 10001):\n",
    "    for a in range(1, i):\n",
    "        if i % a == 0:\n",
    "            divisor = [a]\n",
    "            result = sum(divisor)\n",
    "\n",
    "    if result == i:\n",
    "        print(i)"
   ]
  },
  {
   "cell_type": "code",
   "execution_count": 20,
   "metadata": {},
   "outputs": [
    {
     "name": "stdout",
     "output_type": "stream",
     "text": [
      "6\n",
      "28\n",
      "496\n",
      "8128\n"
     ]
    }
   ],
   "source": [
    "# another answer\n",
    "\n",
    "for i in range(2, 10001):\n",
    "    \n",
    "    divisor = [a for a in range(1, i) if i % a == 0]\n",
    "    result = sum(divisor)\n",
    "    \n",
    "    if result == i:\n",
    "        print(i)"
   ]
  },
  {
   "cell_type": "code",
   "execution_count": 2,
   "metadata": {},
   "outputs": [
    {
     "name": "stdout",
     "output_type": "stream",
     "text": [
      "6\n",
      "28\n",
      "496\n",
      "8128\n"
     ]
    }
   ],
   "source": [
    "# another answer\n",
    "\n",
    "for num in range(2, 10001):\n",
    "    divSum = 0\n",
    "    for i in range(1, num):\n",
    "        if num % i == 0:\n",
    "            divSum += i\n",
    "    if num == divSum:\n",
    "        print(num)"
   ]
  },
  {
   "attachments": {},
   "cell_type": "markdown",
   "metadata": {},
   "source": [
    "### ​4. 도전과제: 피타고라스 수"
   ]
  },
  {
   "cell_type": "code",
   "execution_count": 5,
   "metadata": {},
   "outputs": [
    {
     "name": "stdout",
     "output_type": "stream",
     "text": [
      "200 375 425\n"
     ]
    }
   ],
   "source": [
    "for c in range(1, 1001):\n",
    "    for a in range(1, c):\n",
    "        b = 1000 - c - a\n",
    "        if a**2 + b**2 == c**2 and a < b < c:\n",
    "            print(a, b, c)\n",
    "            break"
   ]
  },
  {
   "cell_type": "code",
   "execution_count": 8,
   "metadata": {},
   "outputs": [
    {
     "name": "stdout",
     "output_type": "stream",
     "text": [
      "200 375 425\n"
     ]
    }
   ],
   "source": [
    "# another answer\n",
    "\n",
    "for a in range(1, 333):\n",
    "    for b in range(a+1, 500):\n",
    "        c = 1000 - a - b\n",
    "        if a*a + b*b == c*c:\n",
    "            print(a, b, c)\n",
    "            break"
   ]
  }
 ],
 "metadata": {
  "kernelspec": {
   "display_name": "base",
   "language": "python",
   "name": "python3"
  },
  "language_info": {
   "codemirror_mode": {
    "name": "ipython",
    "version": 3
   },
   "file_extension": ".py",
   "mimetype": "text/x-python",
   "name": "python",
   "nbconvert_exporter": "python",
   "pygments_lexer": "ipython3",
   "version": "3.10.9"
  },
  "orig_nbformat": 4,
  "vscode": {
   "interpreter": {
    "hash": "9ad9f9c592abbba12f5149783f85538b4c5669fc68fed8dcce4ba0e7c6bb3d74"
   }
  }
 },
 "nbformat": 4,
 "nbformat_minor": 2
}
