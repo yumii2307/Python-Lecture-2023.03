{
 "cells": [
  {
   "attachments": {},
   "cell_type": "markdown",
   "metadata": {},
   "source": [
    "### 8-1. 클래스의 기본"
   ]
  },
  {
   "attachments": {},
   "cell_type": "markdown",
   "metadata": {},
   "source": [
    "- Person 자료형 만들기"
   ]
  },
  {
   "cell_type": "code",
   "execution_count": 1,
   "metadata": {},
   "outputs": [],
   "source": [
    "# 리스트\n",
    "person_list = ['James', 175.0, 70.0, 2000]"
   ]
  },
  {
   "cell_type": "code",
   "execution_count": 2,
   "metadata": {},
   "outputs": [],
   "source": [
    "# 딕셔너리\n",
    "person_dict = {\n",
    "    'name': 'James', 'height': 175.0, 'weight': 70.0, 'birth_year': 2000\n",
    "}"
   ]
  },
  {
   "cell_type": "code",
   "execution_count": 3,
   "metadata": {},
   "outputs": [],
   "source": [
    "# 클래스\n",
    "class Person:\n",
    "    def __init__(self):\n",
    "        self.name = 'James'\n",
    "        self.height = 175.0\n",
    "        self.weight = 70.0\n",
    "        self.birth_year = 2000"
   ]
  },
  {
   "cell_type": "code",
   "execution_count": 4,
   "metadata": {},
   "outputs": [
    {
     "name": "stdout",
     "output_type": "stream",
     "text": [
      "['James', 175.0, 70.0, 2000]\n",
      "{'name': 'James', 'height': 175.0, 'weight': 70.0, 'birth_year': 2000}\n"
     ]
    }
   ],
   "source": [
    "print(person_list)\n",
    "print(person_dict)"
   ]
  },
  {
   "cell_type": "code",
   "execution_count": 5,
   "metadata": {},
   "outputs": [
    {
     "name": "stdout",
     "output_type": "stream",
     "text": [
      "James 175.0 70.0 2000\n"
     ]
    }
   ],
   "source": [
    "james = Person()\n",
    "print(james.name, james.height, james.weight, james.birth_year)"
   ]
  },
  {
   "cell_type": "code",
   "execution_count": 6,
   "metadata": {},
   "outputs": [],
   "source": [
    "# 범용적으로 만들어 객체를 생성할 때 구체적인 값을 할당\n",
    "class Person:\n",
    "    def __init__(self, name, height, weight, birth_year):\n",
    "        self.name = name\n",
    "        self.height = height\n",
    "        self.weight = weight\n",
    "        self.birth_year = birth_year"
   ]
  },
  {
   "cell_type": "code",
   "execution_count": 12,
   "metadata": {},
   "outputs": [],
   "source": [
    "james = Person('James', 175.0, 70.0, 2000)\n",
    "maria = Person('Maria', 163.0, 50.0, 2001)"
   ]
  },
  {
   "attachments": {},
   "cell_type": "markdown",
   "metadata": {},
   "source": [
    "- 메소드(Method)\n",
    "    - 클래스가 가지는 함수\n",
    "    - 객체가 할 수 있는 행위를 모델링"
   ]
  },
  {
   "cell_type": "code",
   "execution_count": 32,
   "metadata": {},
   "outputs": [],
   "source": [
    "import datetime as dt\n",
    "\n",
    "class Person:\n",
    "    def __init__(self, name, height, weight, birth_year):\n",
    "        self.name = name\n",
    "        self.height = height\n",
    "        self.weight = weight\n",
    "        self.birth_year = birth_year\n",
    "\n",
    "    def get_bmi(self):\n",
    "        bmi = self.weight / (self.height / 100) ** 2\n",
    "        return round(bmi, 2)\n",
    "    \n",
    "    def get_age(self):\n",
    "        now = dt.date.today()\n",
    "        return now.year - self.birth_year\n",
    "    \n",
    "    def get_info(self):\n",
    "        return f'이름: {self.name}, 키: {self.height}cm, 몸무게: {self.weight}kg, ' + \\\n",
    "               f'BMI: {self.get_bmi()}, 나이: {self.get_age()}'"
   ]
  },
  {
   "cell_type": "code",
   "execution_count": 33,
   "metadata": {},
   "outputs": [],
   "source": [
    "james = Person('James', 175.0, 70.0, 2000)\n",
    "maria = Person('Maria', 163.0, 50.0, 2001)"
   ]
  },
  {
   "cell_type": "code",
   "execution_count": 34,
   "metadata": {},
   "outputs": [
    {
     "name": "stdout",
     "output_type": "stream",
     "text": [
      "James의 BMI는 22.86 입니다.\n",
      "Maria의 BMI는 18.82 입니다.\n"
     ]
    }
   ],
   "source": [
    "print(f'{james.name}의 BMI는 {james.get_bmi()} 입니다.')\n",
    "print(f'{maria.name}의 BMI는 {maria.get_bmi()} 입니다.')"
   ]
  },
  {
   "cell_type": "code",
   "execution_count": 35,
   "metadata": {},
   "outputs": [
    {
     "name": "stdout",
     "output_type": "stream",
     "text": [
      "James의 나이는 23 입니다.\n",
      "Maria의 나이는 22 입니다.\n"
     ]
    }
   ],
   "source": [
    "print(f'{james.name}의 나이는 {james.get_age()} 입니다.')\n",
    "print(f'{maria.name}의 나이는 {maria.get_age()} 입니다.')"
   ]
  },
  {
   "cell_type": "code",
   "execution_count": 36,
   "metadata": {},
   "outputs": [
    {
     "name": "stdout",
     "output_type": "stream",
     "text": [
      "이름: James, 키: 175.0cm, 몸무게: 70.0kg, BMI: 22.86, 나이: 23\n",
      "이름: Maria, 키: 163.0cm, 몸무게: 50.0kg, BMI: 18.82, 나이: 22\n"
     ]
    }
   ],
   "source": [
    "print(james.get_info())\n",
    "print(maria.get_info())"
   ]
  },
  {
   "attachments": {},
   "cell_type": "markdown",
   "metadata": {},
   "source": [
    "- 연습문제: class Tmoney\n",
    "    - 속성으로 나이(age)와 잔액(balance)을 가지고 있음\n",
    "    - pay()\n",
    "        - 00살의 요금은 ㅇㅇㅇ원이고, 잔액은 ㅇㅇㅇ원입니다.\n",
    "        - 잔액이 부족합니다."
   ]
  },
  {
   "cell_type": "code",
   "execution_count": 61,
   "metadata": {},
   "outputs": [],
   "source": [
    "class Tmoney:\n",
    "    def __init__(self, age, balance):\n",
    "        self.age = age\n",
    "        self.balance = balance\n",
    "\n",
    "    def pay(self):\n",
    "        if 7 <= self.age <= 12:\n",
    "            fare = 650\n",
    "        elif 13 <= self.age <= 18:\n",
    "            fare = 1050\n",
    "        elif self.age >= 19:\n",
    "            fare = 1250\n",
    "        else:\n",
    "            fare = 0\n",
    "    \n",
    "        if self.balance < fare:\n",
    "            print('잔액이 부족합니다.')\n",
    "            return\n",
    "        self.balance -= fare\n",
    "        print(f'{self.age}살의 요금은 {fare}원이고 잔액은 {self.balance}원 입니다.')\n",
    "\n",
    "    def charge(self, amount):\n",
    "        self.balance += amount\n",
    "        print(f'{amount:,d}원을 충전하였고, 잔액은 {self.balance:,d}원 입니다.')\n"
   ]
  },
  {
   "cell_type": "code",
   "execution_count": 65,
   "metadata": {},
   "outputs": [
    {
     "name": "stdout",
     "output_type": "stream",
     "text": [
      "15살의 요금은 1050원이고 잔액은 8950원 입니다.\n",
      "15살의 요금은 1050원이고 잔액은 7900원 입니다.\n",
      "15살의 요금은 1050원이고 잔액은 6850원 입니다.\n",
      "15살의 요금은 1050원이고 잔액은 5800원 입니다.\n",
      "15살의 요금은 1050원이고 잔액은 4750원 입니다.\n",
      "15살의 요금은 1050원이고 잔액은 3700원 입니다.\n",
      "15살의 요금은 1050원이고 잔액은 2650원 입니다.\n",
      "15살의 요금은 1050원이고 잔액은 1600원 입니다.\n",
      "15살의 요금은 1050원이고 잔액은 550원 입니다.\n",
      "잔액이 부족합니다.\n"
     ]
    }
   ],
   "source": [
    "card = Tmoney(15, 10000)\n",
    "for i in range(10):\n",
    "    card.pay()"
   ]
  },
  {
   "cell_type": "code",
   "execution_count": 66,
   "metadata": {},
   "outputs": [
    {
     "name": "stdout",
     "output_type": "stream",
     "text": [
      "10,000원을 충전하였고, 잔액은 10,550원 입니다.\n"
     ]
    }
   ],
   "source": [
    "card.charge(10000)"
   ]
  },
  {
   "cell_type": "code",
   "execution_count": null,
   "metadata": {},
   "outputs": [],
   "source": []
  }
 ],
 "metadata": {
  "kernelspec": {
   "display_name": "base",
   "language": "python",
   "name": "python3"
  },
  "language_info": {
   "codemirror_mode": {
    "name": "ipython",
    "version": 3
   },
   "file_extension": ".py",
   "mimetype": "text/x-python",
   "name": "python",
   "nbconvert_exporter": "python",
   "pygments_lexer": "ipython3",
   "version": "3.10.10"
  },
  "orig_nbformat": 4
 },
 "nbformat": 4,
 "nbformat_minor": 2
}
