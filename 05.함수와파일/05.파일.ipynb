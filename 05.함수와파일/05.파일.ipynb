{
 "cells": [
  {
   "attachments": {},
   "cell_type": "markdown",
   "metadata": {},
   "source": [
    "### 5-3. 파일(File)"
   ]
  },
  {
   "cell_type": "markdown",
   "metadata": {},
   "source": [
    "- 파일에 텍스트 쓰기"
   ]
  },
  {
   "cell_type": "code",
   "execution_count": 20,
   "metadata": {},
   "outputs": [],
   "source": [
    "file = open('data/basic.txt', 'w')      # data/basic.txt를 쓰기 모드로 open\n",
    "file.write('Hello Python Programming...!!!')\n",
    "file.close()"
   ]
  },
  {
   "attachments": {},
   "cell_type": "markdown",
   "metadata": {},
   "source": [
    "- 파이썬 스타일: with 구문"
   ]
  },
  {
   "cell_type": "code",
   "execution_count": 21,
   "metadata": {},
   "outputs": [],
   "source": [
    "# with 구문을 벗어나면 파일이 자동적으로 close됨\n",
    "# 'w' 모드로 기존 데이터는 없어짐\n",
    "# write 할 경우 new line을 입력하지 않았으므로 한 줄의 데이터가 됨\n",
    "with open('data/basic.txt', 'w') as file:\n",
    "    file.write('Hello World!!!')\n",
    "    file.write('Hello World!!!')"
   ]
  },
  {
   "cell_type": "code",
   "execution_count": 22,
   "metadata": {},
   "outputs": [],
   "source": [
    "with open('data/basic.txt', 'w') as file:\n",
    "    file.write('Hello World!!!\\n')\n",
    "    file.write('Hello World!!!')"
   ]
  },
  {
   "attachments": {},
   "cell_type": "markdown",
   "metadata": {},
   "source": [
    "- 텍스트 읽기"
   ]
  },
  {
   "cell_type": "code",
   "execution_count": 23,
   "metadata": {},
   "outputs": [
    {
     "name": "stdout",
     "output_type": "stream",
     "text": [
      "Hello World!!!\n",
      "Hello\n"
     ]
    }
   ],
   "source": [
    "with open('data/basic.txt', 'r') as file:\n",
    "    content = file.read(20)             # 파일 안에 있는 텍스트 20글자를 읽음\n",
    "print(content)"
   ]
  },
  {
   "attachments": {},
   "cell_type": "markdown",
   "metadata": {},
   "source": [
    "- 한글 텍스트 쓰기/읽기"
   ]
  },
  {
   "cell_type": "code",
   "execution_count": 24,
   "metadata": {},
   "outputs": [],
   "source": [
    "with open('data/한글.txt', 'w') as file:\n",
    "    file.write('안녕하세요?')"
   ]
  },
  {
   "cell_type": "code",
   "execution_count": 25,
   "metadata": {},
   "outputs": [],
   "source": [
    "with open('data/한글.txt', 'w', encoding='CP949') as file:\n",
    "    file.write('안녕하세요?') "
   ]
  },
  {
   "cell_type": "code",
   "execution_count": 26,
   "metadata": {},
   "outputs": [
    {
     "name": "stdout",
     "output_type": "stream",
     "text": [
      "안녕하세요?\n"
     ]
    }
   ],
   "source": [
    "with open('data/한글.txt', 'r', encoding='CP949') as file:\n",
    "    content = file.read()\n",
    "print(content)"
   ]
  },
  {
   "cell_type": "code",
   "execution_count": 27,
   "metadata": {},
   "outputs": [
    {
     "name": "stdout",
     "output_type": "stream",
     "text": [
      "안녕하\n"
     ]
    }
   ],
   "source": [
    "with open('data/한글.txt', 'r', encoding='CP949') as file:\n",
    "    content = file.read(3)\n",
    "print(content)"
   ]
  },
  {
   "attachments": {},
   "cell_type": "markdown",
   "metadata": {},
   "source": [
    "- 여러줄 읽기/쓰기"
   ]
  },
  {
   "cell_type": "code",
   "execution_count": 30,
   "metadata": {},
   "outputs": [],
   "source": [
    "# writelines는 여러 라인을 쓰는게 아니라 리스트와 같은 객체의 데이터를 찍어주는 역할\n",
    "fruits = ['apple', 'banana', 'cherry']\n",
    "with open('data/fruits.txt', 'w') as file:\n",
    "    file.writelines(list(map(lambda x: x + '\\n', fruits)))"
   ]
  },
  {
   "cell_type": "code",
   "execution_count": 31,
   "metadata": {},
   "outputs": [
    {
     "name": "stdout",
     "output_type": "stream",
     "text": [
      "['apple\\n', 'banana\\n', 'cherry\\n']\n"
     ]
    }
   ],
   "source": [
    "with open('data/fruits.txt') as file:\n",
    "    lines = file.readlines()        # 줄 단위로 리스트를 만들어 줌\n",
    "print(lines)"
   ]
  },
  {
   "cell_type": "code",
   "execution_count": 32,
   "metadata": {},
   "outputs": [
    {
     "name": "stdout",
     "output_type": "stream",
     "text": [
      "apple\n",
      "banana\n",
      "cherry\n"
     ]
    }
   ],
   "source": [
    "# 줄 단위로 작업을 하려면\n",
    "for line in lines:\n",
    "    print(line[:-1])"
   ]
  },
  {
   "attachments": {},
   "cell_type": "markdown",
   "metadata": {},
   "source": [
    "- append mode"
   ]
  },
  {
   "cell_type": "code",
   "execution_count": 33,
   "metadata": {},
   "outputs": [],
   "source": [
    "with open('data/fruits.txt', 'a') as file:\n",
    "    file.write('strawberry\\n')\n",
    "    file.write('melon\\n')"
   ]
  },
  {
   "attachments": {},
   "cell_type": "markdown",
   "metadata": {},
   "source": [
    "- github에 올리지 않고 파일의 데이터를 이용하여 작업하기"
   ]
  },
  {
   "cell_type": "code",
   "execution_count": 35,
   "metadata": {},
   "outputs": [],
   "source": [
    "password = 'password'\n",
    "# password를 이용하여 API 이용하는 코드"
   ]
  },
  {
   "cell_type": "code",
   "execution_count": 38,
   "metadata": {},
   "outputs": [],
   "source": [
    "# .gitignore 파일에 password.txt 추가\n",
    "with open ('data/password.txt') as file:\n",
    "    password = file.read()\n",
    "# 이 이후에 password를 이용하여 API 이용하는 코드를 작성하면 됨\n",
    "# password를 노출하지 않고 github를 이용할 수 있음"
   ]
  },
  {
   "attachments": {},
   "cell_type": "markdown",
   "metadata": {},
   "source": [
    "- 파이썬 객체 저장/로드 - binary file 이용"
   ]
  },
  {
   "cell_type": "code",
   "execution_count": 1,
   "metadata": {},
   "outputs": [],
   "source": [
    "import pickle\n",
    "\n",
    "person = {'name': 'James', 'age': 25, 'address': '경기도 장안구 영화동'}\n",
    "\n",
    "with open('data/person.pkl', 'wb') as file:\n",
    "    pickle.dump(person, file)"
   ]
  },
  {
   "cell_type": "code",
   "execution_count": 2,
   "metadata": {},
   "outputs": [
    {
     "data": {
      "text/plain": [
       "{'name': 'James', 'age': 25, 'address': '경기도 장안구 영화동'}"
      ]
     },
     "execution_count": 2,
     "metadata": {},
     "output_type": "execute_result"
    }
   ],
   "source": [
    "with open('data/person.pkl', 'rb') as file:\n",
    "    james = pickle.load(file)\n",
    "james"
   ]
  },
  {
   "cell_type": "code",
   "execution_count": null,
   "metadata": {},
   "outputs": [],
   "source": []
  }
 ],
 "metadata": {
  "kernelspec": {
   "display_name": "base",
   "language": "python",
   "name": "python3"
  },
  "language_info": {
   "codemirror_mode": {
    "name": "ipython",
    "version": 3
   },
   "file_extension": ".py",
   "mimetype": "text/x-python",
   "name": "python",
   "nbconvert_exporter": "python",
   "pygments_lexer": "ipython3",
   "version": "3.10.9"
  },
  "orig_nbformat": 4
 },
 "nbformat": 4,
 "nbformat_minor": 2
}
