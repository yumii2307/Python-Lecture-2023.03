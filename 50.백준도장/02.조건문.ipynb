{
 "cells": [
  {
   "attachments": {},
   "cell_type": "markdown",
   "metadata": {},
   "source": [
    "### 1330. 두 수 비교하기"
   ]
  },
  {
   "cell_type": "code",
   "execution_count": 3,
   "metadata": {},
   "outputs": [
    {
     "name": "stdout",
     "output_type": "stream",
     "text": [
      ">\n"
     ]
    }
   ],
   "source": [
    "A, B = map(int, input().split())\n",
    "if A > B:\n",
    "    print('>')\n",
    "elif A < B:\n",
    "    print('<')\n",
    "else:\n",
    "    print('==')"
   ]
  },
  {
   "attachments": {},
   "cell_type": "markdown",
   "metadata": {},
   "source": [
    "### 9498. 시험 성적"
   ]
  },
  {
   "cell_type": "code",
   "execution_count": 4,
   "metadata": {},
   "outputs": [
    {
     "name": "stdout",
     "output_type": "stream",
     "text": [
      "A\n"
     ]
    }
   ],
   "source": [
    "score = int(input())\n",
    "if 90 <= score <= 100:\n",
    "    print('A')\n",
    "elif 80 <= score <= 89:\n",
    "    print('B')\n",
    "elif 70 <= score <= 79:\n",
    "    print('C')\n",
    "elif 60 <= score <= 69:\n",
    "    print('D')\n",
    "else:\n",
    "    print('F')"
   ]
  },
  {
   "attachments": {},
   "cell_type": "markdown",
   "metadata": {},
   "source": [
    "### 2753. 윤년"
   ]
  },
  {
   "cell_type": "code",
   "execution_count": 6,
   "metadata": {},
   "outputs": [
    {
     "name": "stdout",
     "output_type": "stream",
     "text": [
      "0\n"
     ]
    }
   ],
   "source": [
    "year = int(input())\n",
    "\n",
    "if (year % 4 == 0 and year % 100 != 0) or year % 400 == 0:\n",
    "    print('1')\n",
    "else:\n",
    "    print('0')"
   ]
  },
  {
   "attachments": {},
   "cell_type": "markdown",
   "metadata": {},
   "source": [
    "### 14681. 사분면 고르기"
   ]
  },
  {
   "cell_type": "code",
   "execution_count": 3,
   "metadata": {},
   "outputs": [
    {
     "name": "stdout",
     "output_type": "stream",
     "text": [
      "4\n"
     ]
    }
   ],
   "source": [
    "x = int(input())\n",
    "y = int(input())\n",
    "\n",
    "if x > 0 and y > 0:\n",
    "    print('1')\n",
    "elif x < 0 and y > 0:\n",
    "    print('2')\n",
    "elif x < 0 and y < 0:\n",
    "    print('3')\n",
    "else:\n",
    "    print('4')"
   ]
  },
  {
   "attachments": {},
   "cell_type": "markdown",
   "metadata": {},
   "source": [
    "### 2884. 알람 시계"
   ]
  },
  {
   "cell_type": "code",
   "execution_count": 4,
   "metadata": {},
   "outputs": [
    {
     "name": "stdout",
     "output_type": "stream",
     "text": [
      "9 25\n"
     ]
    }
   ],
   "source": [
    "hour, minute = map(int, input().split())\n",
    "\n",
    "if minute >= 45:\n",
    "    print(hour, minute-45)\n",
    "elif hour == 1 and minute < 45:\n",
    "    print(12, minute+15)\n",
    "else:\n",
    "    print(hour-1, minute+15)"
   ]
  },
  {
   "cell_type": "code",
   "execution_count": null,
   "metadata": {},
   "outputs": [],
   "source": [
    "# 모듈로 간단하게 줄인 코드\n",
    "\n",
    "hour, minute = map(int, input().split())\n",
    "\n",
    "totalMin = hour * 60 + minute\n",
    "totalMin = (totalMin - 45 + (24 * 60)) % (24 * 60)\n",
    "newHour = totalMin // 60\n",
    "newMin = totalMin % 60\n",
    "\n",
    "print(f'{newHour}:{newMin}')"
   ]
  },
  {
   "attachments": {},
   "cell_type": "markdown",
   "metadata": {},
   "source": [
    "### 2525. 오븐 시계"
   ]
  },
  {
   "cell_type": "code",
   "execution_count": 37,
   "metadata": {},
   "outputs": [
    {
     "name": "stdout",
     "output_type": "stream",
     "text": [
      "0 34\n"
     ]
    }
   ],
   "source": [
    "A, B = map(int, input().split())\n",
    "C = int(input())\n",
    "\n",
    "if B + C < 60:\n",
    "    newHour = A\n",
    "    newMin = B + C\n",
    "elif B + C >= 60 and A >= 23:\n",
    "    newHour = (A + 1) % 24\n",
    "    newMin = B + C - 60\n",
    "elif B + C == 60:\n",
    "    newHour = A + 1\n",
    "    newMin = 0\n",
    "else:\n",
    "    newHour = A + ((B + C) // 60)\n",
    "    newMin = B + C - (60 * ((B + C) // 60))\n",
    "print(f'{newHour} {newMin}')"
   ]
  },
  {
   "cell_type": "code",
   "execution_count": 21,
   "metadata": {},
   "outputs": [
    {
     "name": "stdout",
     "output_type": "stream",
     "text": [
      "0 13\n"
     ]
    }
   ],
   "source": [
    "# 모듈로 간단하게 줄인 코드\n",
    "\n",
    "A, B = map(int, input().split())\n",
    "C = int(input())\n",
    "\n",
    "totalMin = B + C\n",
    "newHour = (A + totalMin // 60) % 24\n",
    "newMin = totalMin % 60\n",
    "\n",
    "print(f'{newHour} {newMin}')"
   ]
  },
  {
   "attachments": {},
   "cell_type": "markdown",
   "metadata": {},
   "source": [
    "### 2480. 주사위 세개"
   ]
  },
  {
   "cell_type": "code",
   "execution_count": 5,
   "metadata": {},
   "outputs": [
    {
     "name": "stdout",
     "output_type": "stream",
     "text": [
      "3, 3, 3, 13000원\n"
     ]
    }
   ],
   "source": [
    "a, b, c = map(int, input().split())\n",
    "if a == b == c:\n",
    "    prize = 10000 + a * 1000\n",
    "elif a == b or a == c:\n",
    "    prize = 1000 + a * 100\n",
    "elif b == c:\n",
    "    prize = 1000 + b * 100\n",
    "else:\n",
    "    if a > b and a > c:\n",
    "        maxVal = a\n",
    "    elif b > a and b > c:\n",
    "        maxVal = b\n",
    "    else:\n",
    "        maxVal = c\n",
    "    prize = maxVal * 100\n",
    "print(f'{a}, {b}, {c}, {prize}원')"
   ]
  },
  {
   "cell_type": "code",
   "execution_count": 38,
   "metadata": {},
   "outputs": [
    {
     "name": "stdout",
     "output_type": "stream",
     "text": [
      "3, 3, 3, 13000원\n"
     ]
    }
   ],
   "source": [
    "# 조건을 간결하게 줄인 코드\n",
    "\n",
    "a, b, c = map(int, input().split())\n",
    "\n",
    "if a == b == c:\n",
    "    prize = 10000 + a * 1000\n",
    "elif a == b or a == c or b == c:\n",
    "    prize = 1000 + (a if a == b or a == c else b) * 100\n",
    "else:\n",
    "    prize = max(a, b, c) * 100\n",
    "\n",
    "print(f'{a}, {b}, {c}, {prize}원')"
   ]
  },
  {
   "cell_type": "code",
   "execution_count": null,
   "metadata": {},
   "outputs": [],
   "source": []
  }
 ],
 "metadata": {
  "kernelspec": {
   "display_name": "base",
   "language": "python",
   "name": "python3"
  },
  "language_info": {
   "codemirror_mode": {
    "name": "ipython",
    "version": 3
   },
   "file_extension": ".py",
   "mimetype": "text/x-python",
   "name": "python",
   "nbconvert_exporter": "python",
   "pygments_lexer": "ipython3",
   "version": "3.10.10"
  },
  "orig_nbformat": 4
 },
 "nbformat": 4,
 "nbformat_minor": 2
}
